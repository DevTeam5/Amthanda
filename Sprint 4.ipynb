{
 "cells": [
  {
   "cell_type": "code",
   "execution_count": 33,
   "metadata": {},
   "outputs": [
    {
     "name": "stdout",
     "output_type": "stream",
     "text": [
      "{'_id': ObjectId('5e57c2c6201b231ca0445e57'), 'Type': 'Chips', 'Products': 'Doritos', 'Prices': '15', 'Quantity': '20', 'StockPrice': '200', 'Size': '250g', 'BarCode': '584324796'}\n",
      "{'_id': ObjectId('5e57c2c6201b231ca0445e58'), 'Type': '', 'Products': 'Lays', 'Prices': '12', 'Quantity': '15', 'StockPrice': '120', 'Size': '250g', 'BarCode': '186187741'}\n",
      "{'_id': ObjectId('5e57c2c6201b231ca0445e59'), 'Type': '', 'Products': 'NikNaks', 'Prices': '5', 'Quantity': '30', 'StockPrice': '90', 'Size': '28g', 'BarCode': '548976585'}\n",
      "{'_id': ObjectId('5e57c2c6201b231ca0445e5a'), 'Type': '', 'Products': 'Simba', 'Prices': '18', 'Quantity': '18', 'StockPrice': '216', 'Size': '250g', 'BarCode': '984563216'}\n",
      "{'_id': ObjectId('5e57c2c6201b231ca0445e5b'), 'Type': '', 'Products': '', 'Prices': '', 'Quantity': '', 'StockPrice': '', 'Size': '', 'BarCode': ''}\n",
      "{'_id': ObjectId('5e57c2c6201b231ca0445e5c'), 'Type': 'Cooldrink', 'Products': 'Fanta', 'Prices': '11', 'Quantity': '10', 'StockPrice': '200', 'Size': '250g', 'BarCode': '584324796'}\n",
      "{'_id': ObjectId('5e57c2c6201b231ca0445e5d'), 'Type': '', 'Products': 'Sprite', 'Prices': '14', 'Quantity': '10', 'StockPrice': '120', 'Size': '250g', 'BarCode': '186187741'}\n",
      "{'_id': ObjectId('5e57c2c6201b231ca0445e5e'), 'Type': '', 'Products': 'Jive', 'Prices': '10', 'Quantity': '20', 'StockPrice': '90', 'Size': '28g', 'BarCode': '548976585'}\n",
      "{'_id': ObjectId('5e57c2c6201b231ca0445e5f'), 'Type': '', 'Products': 'Score', 'Prices': '10', 'Quantity': '15', 'StockPrice': '216', 'Size': '250g', 'BarCode': '984563216'}\n",
      "{'_id': ObjectId('5e57c2c6201b231ca0445e60'), 'Type': '', 'Products': '', 'Prices': '', 'Quantity': '', 'StockPrice': '', 'Size': '', 'BarCode': ''}\n",
      "{'_id': ObjectId('5e57c2c6201b231ca0445e61'), 'Type': 'Chocolate', 'Products': ' Ps', 'Prices': '8', 'Quantity': '20', 'StockPrice': '200', 'Size': '250g', 'BarCode': '584324796'}\n",
      "{'_id': ObjectId('5e57c2c6201b231ca0445e62'), 'Type': '', 'Products': 'KitKat', 'Prices': '10', 'Quantity': '15', 'StockPrice': '120', 'Size': '250g', 'BarCode': '186187741'}\n",
      "{'_id': ObjectId('5e57c2c6201b231ca0445e63'), 'Type': '', 'Products': 'Bar-one', 'Prices': '13', 'Quantity': '10', 'StockPrice': '90', 'Size': '28g', 'BarCode': '548976585'}\n",
      "{'_id': ObjectId('5e57c2c6201b231ca0445e64'), 'Type': '', 'Products': 'Tex', 'Prices': '7', 'Quantity': '25', 'StockPrice': '216', 'Size': '250g', 'BarCode': '984563216'}\n",
      "{'_id': ObjectId('5e57c2c6201b231ca0445e65'), 'Type': '', 'Products': '', 'Prices': '', 'Quantity': '', 'StockPrice': '', 'Size': '', 'BarCode': ''}\n",
      "{'_id': ObjectId('5e57c2c6201b231ca0445e66'), 'Type': 'Pies', 'Products': 'Chicken', 'Prices': '15', 'Quantity': '13', 'StockPrice': '200', 'Size': '250g', 'BarCode': '584324796'}\n",
      "{'_id': ObjectId('5e57c2c6201b231ca0445e67'), 'Type': '', 'Products': 'Burger', 'Prices': '20', 'Quantity': '10', 'StockPrice': '120', 'Size': '250g', 'BarCode': '186187741'}\n",
      "{'_id': ObjectId('5e57c2c6201b231ca0445e68'), 'Type': '', 'Products': 'steak', 'Prices': '18', 'Quantity': '20', 'StockPrice': '90', 'Size': '28g', 'BarCode': '548976585'}\n",
      "{'_id': ObjectId('5e57c2c6201b231ca0445e69'), 'Type': '', 'Products': 'pepper', 'Prices': '15', 'Quantity': '10', 'StockPrice': '216', 'Size': '250g', 'BarCode': '984563216'}\n",
      "{'_id': ObjectId('5e57c2c6201b231ca0445e6a'), 'Type': '', 'Products': '', 'Prices': '', 'Quantity': '', 'StockPrice': '', 'Size': '', 'BarCode': ''}\n",
      "{'_id': ObjectId('5e57c2c6201b231ca0445e6b'), 'Type': 'Fruits', 'Products': 'Guava', 'Prices': '10', 'Quantity': '20', 'StockPrice': '200', 'Size': '250g', 'BarCode': '584324796'}\n",
      "{'_id': ObjectId('5e57c2c6201b231ca0445e6c'), 'Type': '', 'Products': 'Peach', 'Prices': '12', 'Quantity': '15', 'StockPrice': '120', 'Size': '250g', 'BarCode': '186187741'}\n",
      "{'_id': ObjectId('5e57c2c6201b231ca0445e6d'), 'Type': '', 'Products': 'Pear', 'Prices': '8', 'Quantity': '30', 'StockPrice': '90', 'Size': '28g', 'BarCode': '548976585'}\n",
      "{'_id': ObjectId('5e57c2c6201b231ca0445e6e'), 'Type': '', 'Products': 'Banana', 'Prices': '15', 'Quantity': '10', 'StockPrice': '216', 'Size': '250g', 'BarCode': '984563216'}\n",
      "{'_id': ObjectId('5e57c2c6201b231ca0445e6f'), 'Type': '', 'Products': '', 'Prices': '', 'Quantity': '', 'StockPrice': '', 'Size': '', 'BarCode': ''}\n",
      "{'_id': ObjectId('5e57c2c6201b231ca0445e70'), 'Type': 'Cupcakes', 'Products': 'Vanilla', 'Prices': '20', 'Quantity': '20', 'StockPrice': '200', 'Size': '250g', 'BarCode': '584324796'}\n",
      "{'_id': ObjectId('5e57c2c6201b231ca0445e71'), 'Type': '', 'Products': 'Chocmint', 'Prices': '17', 'Quantity': '20', 'StockPrice': '120', 'Size': '250g', 'BarCode': '186187741'}\n",
      "{'_id': ObjectId('5e57c2c6201b231ca0445e72'), 'Type': '', 'Products': 'Browny', 'Prices': '22', 'Quantity': '15', 'StockPrice': '90', 'Size': '28g', 'BarCode': '548976585'}\n",
      "{'_id': ObjectId('5e57c2c6201b231ca0445e73'), 'Type': '', 'Products': 'Chocolate', 'Prices': '20', 'Quantity': '10', 'StockPrice': '216', 'Size': '250g', 'BarCode': '984563216'}\n",
      "{'_id': ObjectId('5e57c2c6201b231ca0445e74'), 'Type': '', 'Products': '', 'Prices': '', 'Quantity': '', 'StockPrice': '', 'Size': '', 'BarCode': ''}\n",
      "{'_id': ObjectId('5e57c2c6201b231ca0445e75'), 'Type': 'Veggies', 'Products': 'Potatoes', 'Prices': '25', 'Quantity': '10', 'StockPrice': '200', 'Size': '250g', 'BarCode': '584324796'}\n",
      "{'_id': ObjectId('5e57c2c6201b231ca0445e76'), 'Type': '', 'Products': 'Spinach', 'Prices': '15', 'Quantity': '10', 'StockPrice': '120', 'Size': '250g', 'BarCode': '186187741'}\n",
      "{'_id': ObjectId('5e57c2c6201b231ca0445e77'), 'Type': '', 'Products': 'Onion', 'Prices': '10', 'Quantity': '10', 'StockPrice': '90', 'Size': '28g', 'BarCode': '548976585'}\n",
      "{'_id': ObjectId('5e57c2c6201b231ca0445e78'), 'Type': '', 'Products': 'Butternut', 'Prices': '12', 'Quantity': '10', 'StockPrice': '216', 'Size': '250g', 'BarCode': '984563216'}\n",
      "{'_id': ObjectId('5e57c2c6201b231ca0445e79'), 'Type': '', 'Products': '', 'Prices': '', 'Quantity': '', 'StockPrice': '', 'Size': '', 'BarCode': ''}\n",
      "{'_id': ObjectId('5e57c2c6201b231ca0445e7a'), 'Type': 'Meat', 'Products': 'Chicken', 'Prices': '30', 'Quantity': '15', 'StockPrice': '200', 'Size': '250g', 'BarCode': '584324796'}\n",
      "{'_id': ObjectId('5e57c2c6201b231ca0445e7b'), 'Type': '', 'Products': 'Pork', 'Prices': '20', 'Quantity': '10', 'StockPrice': '120', 'Size': '250g', 'BarCode': '186187741'}\n",
      "{'_id': ObjectId('5e57c2c6201b231ca0445e7c'), 'Type': '', 'Products': 'Mutton', 'Prices': '50', 'Quantity': '10', 'StockPrice': '90', 'Size': '28g', 'BarCode': '548976585'}\n",
      "{'_id': ObjectId('5e57c2c6201b231ca0445e7d'), 'Type': '', 'Products': 'Sausage', 'Prices': '15', 'Quantity': '25', 'StockPrice': '216', 'Size': '250g', 'BarCode': '984563216'}\n",
      "{'_id': ObjectId('5e57c2c6201b231ca0445e7e'), 'Type': '', 'Products': '', 'Prices': '', 'Quantity': '', 'StockPrice': '', 'Size': '', 'BarCode': ''}\n",
      "{'_id': ObjectId('5e57c2c6201b231ca0445e7f'), 'Type': 'Powder', 'Products': 'Mac', 'Prices': '13', 'Quantity': '20', 'StockPrice': '200', 'Size': '250g', 'BarCode': '584324796'}\n",
      "{'_id': ObjectId('5e57c2c6201b231ca0445e80'), 'Type': '', 'Products': 'Omo', 'Prices': '20', 'Quantity': '10', 'StockPrice': '120', 'Size': '250g', 'BarCode': '186187741'}\n",
      "{'_id': ObjectId('5e57c2c6201b231ca0445e81'), 'Type': '', 'Products': 'Surf', 'Prices': '15', 'Quantity': '15', 'StockPrice': '90', 'Size': '28g', 'BarCode': '548976585'}\n",
      "{'_id': ObjectId('5e57c2c6201b231ca0445e82'), 'Type': '', 'Products': 'Ariel', 'Prices': '25', 'Quantity': '10', 'StockPrice': '216', 'Size': '250g', 'BarCode': '984563216'}\n",
      "{'_id': ObjectId('5e57c2c6201b231ca0445e83'), 'Type': '', 'Products': None, 'Prices': None, 'Quantity': None, 'StockPrice': None, 'Size': None, 'BarCode': None}\n"
     ]
    }
   ],
   "source": [
    "import pymongo\n",
    "\n",
    "myclient = pymongo.MongoClient(\"mongodb://localhost:27017/\")\n",
    "mydb = myclient[\"Data_Tracker\"]\n",
    "mycol = mydb[\"sprint\"]\n",
    "\n",
    "for x in mycol.find():\n",
    "    print(x)\n",
    "\n"
   ]
  },
  {
   "cell_type": "code",
   "execution_count": 34,
   "metadata": {},
   "outputs": [
    {
     "name": "stdout",
     "output_type": "stream",
     "text": [
      "<pymongo.results.InsertOneResult object at 0x0000017241E6BC78>\n"
     ]
    }
   ],
   "source": [
    "import pymongo \n",
    "\n",
    "myclient = pymongo.MongoClient(\"mongodb://localhost:27017/\")\n",
    "mydb = myclient[\"Data_Tracker\"]\n",
    "mycol = mydb[\"sprint\"]\n",
    "\n",
    "mydict = {\"chips\": \"Simba\", \"Cooldrink\": \"Fanta\", \"chocolate\": \"KitKat\"}\n",
    "\n",
    "x = mycol.insert_one(mydict)\n",
    "\n",
    "print(x)"
   ]
  },
  {
   "cell_type": "code",
   "execution_count": 35,
   "metadata": {},
   "outputs": [
    {
     "name": "stdout",
     "output_type": "stream",
     "text": [
      "{'_id': ObjectId('5e57c2c6201b231ca0445e57'), 'Type': 'Chips', 'Products': 'Doritos', 'Prices': '15', 'Quantity': '20', 'StockPrice': '200', 'Size': '250g', 'BarCode': '584324796'}\n"
     ]
    }
   ],
   "source": [
    "#find my collection \n",
    "import pymongo\n",
    "\n",
    "myclient = pymongo.MongoClient(\"mongodb://localhost:27017/\")\n",
    "mydb = myclient[\"Data_Tracker\"]\n",
    "mycol = mydb[\"sprint\"]\n",
    "\n",
    "x = mycol.find_one()\n",
    "\n",
    "print(x)"
   ]
  },
  {
   "cell_type": "code",
   "execution_count": 38,
   "metadata": {},
   "outputs": [
    {
     "name": "stdout",
     "output_type": "stream",
     "text": [
      "[ObjectId('5e57c8dea0ea5b30d865192c'), ObjectId('5e57c8dea0ea5b30d865192d'), ObjectId('5e57c8dea0ea5b30d865192e'), ObjectId('5e57c8dea0ea5b30d865192f'), ObjectId('5e57c8dea0ea5b30d8651930')]\n"
     ]
    }
   ],
   "source": [
    "#insert multiple documents into your collection in question (3)\n",
    "import pymongo\n",
    "\n",
    "myclient = pymongo.MongoClient(\"mongodb://localhost:27017/\")\n",
    "mydb = myclient[\"Data_Tracker\"]\n",
    "mycol = mydb[\"sprint\"]\n",
    "\n",
    "mylist = [\n",
    "    {\"chips\": \"Lays\", \"cooldrink\": \"fanta orange\", \"chocolate\": \"dairy milk\"},\n",
    "    {\"chips\": \"Doritos\", \"cooldrink\": \"jive\", \"chocolate\": \"areo\"},\n",
    "    {\"chips\": \"Crack n snack\", \"cooldrink\": \"twizza\", \"chocolate\": \"chomp\"},\n",
    "    {\"chips\": \"snappers\", \"cooldrink\": \"lemonade\", \"chocolate\": \"bubbly\"},\n",
    "    {\"chips\": \"stylos\", \"cooldrink\": \"pepsi\", \"chocolate\": \"lindte\"},\n",
    "\n",
    "]\n",
    "\n",
    "x = mycol.insert_many(mylist)\n",
    "\n",
    "#print list of the _id values of the inserted documentss:\n",
    "print(x.inserted_ids)"
   ]
  },
  {
   "cell_type": "code",
   "execution_count": 13,
   "metadata": {},
   "outputs": [
    {
     "name": "stdout",
     "output_type": "stream",
     "text": [
      "{'_id': ObjectId('5e57c2c6201b231ca0445e57'), 'Type': 'Chips', 'Products': 'Doritos', 'Prices': '15', 'Quantity': '20', 'StockPrice': '200', 'Size': '250g', 'BarCode': '584324796'}\n",
      "{'_id': ObjectId('5e57c2c6201b231ca0445e58'), 'Type': '', 'Products': 'Lays', 'Prices': '12', 'Quantity': '15', 'StockPrice': '120', 'Size': '250g', 'BarCode': '186187741'}\n",
      "{'_id': ObjectId('5e57c2c6201b231ca0445e59'), 'Type': '', 'Products': 'NikNaks', 'Prices': '5', 'Quantity': '30', 'StockPrice': '90', 'Size': '28g', 'BarCode': '548976585'}\n",
      "{'_id': ObjectId('5e57c2c6201b231ca0445e5a'), 'Type': '', 'Products': 'Simba', 'Prices': '18', 'Quantity': '18', 'StockPrice': '216', 'Size': '250g', 'BarCode': '984563216'}\n",
      "{'_id': ObjectId('5e57c2c6201b231ca0445e5b'), 'Type': '', 'Products': '', 'Prices': '', 'Quantity': '', 'StockPrice': '', 'Size': '', 'BarCode': ''}\n",
      "{'_id': ObjectId('5e57c2c6201b231ca0445e5c'), 'Type': 'Cooldrink', 'Products': 'Fanta', 'Prices': '11', 'Quantity': '10', 'StockPrice': '200', 'Size': '250g', 'BarCode': '584324796'}\n",
      "{'_id': ObjectId('5e57c2c6201b231ca0445e5d'), 'Type': '', 'Products': 'Sprite', 'Prices': '14', 'Quantity': '10', 'StockPrice': '120', 'Size': '250g', 'BarCode': '186187741'}\n",
      "{'_id': ObjectId('5e57c2c6201b231ca0445e5e'), 'Type': '', 'Products': 'Jive', 'Prices': '10', 'Quantity': '20', 'StockPrice': '90', 'Size': '28g', 'BarCode': '548976585'}\n",
      "{'_id': ObjectId('5e57c2c6201b231ca0445e5f'), 'Type': '', 'Products': 'Score', 'Prices': '10', 'Quantity': '15', 'StockPrice': '216', 'Size': '250g', 'BarCode': '984563216'}\n",
      "{'_id': ObjectId('5e57c2c6201b231ca0445e60'), 'Type': '', 'Products': '', 'Prices': '', 'Quantity': '', 'StockPrice': '', 'Size': '', 'BarCode': ''}\n",
      "{'_id': ObjectId('5e57c2c6201b231ca0445e61'), 'Type': 'Chocolate', 'Products': ' Ps', 'Prices': '8', 'Quantity': '20', 'StockPrice': '200', 'Size': '250g', 'BarCode': '584324796'}\n",
      "{'_id': ObjectId('5e57c2c6201b231ca0445e62'), 'Type': '', 'Products': 'KitKat', 'Prices': '10', 'Quantity': '15', 'StockPrice': '120', 'Size': '250g', 'BarCode': '186187741'}\n",
      "{'_id': ObjectId('5e57c2c6201b231ca0445e63'), 'Type': '', 'Products': 'Bar-one', 'Prices': '13', 'Quantity': '10', 'StockPrice': '90', 'Size': '28g', 'BarCode': '548976585'}\n",
      "{'_id': ObjectId('5e57c2c6201b231ca0445e64'), 'Type': '', 'Products': 'Tex', 'Prices': '7', 'Quantity': '25', 'StockPrice': '216', 'Size': '250g', 'BarCode': '984563216'}\n",
      "{'_id': ObjectId('5e57c2c6201b231ca0445e65'), 'Type': '', 'Products': '', 'Prices': '', 'Quantity': '', 'StockPrice': '', 'Size': '', 'BarCode': ''}\n",
      "{'_id': ObjectId('5e57c2c6201b231ca0445e66'), 'Type': 'Pies', 'Products': 'Chicken', 'Prices': '15', 'Quantity': '13', 'StockPrice': '200', 'Size': '250g', 'BarCode': '584324796'}\n",
      "{'_id': ObjectId('5e57c2c6201b231ca0445e67'), 'Type': '', 'Products': 'Burger', 'Prices': '20', 'Quantity': '10', 'StockPrice': '120', 'Size': '250g', 'BarCode': '186187741'}\n",
      "{'_id': ObjectId('5e57c2c6201b231ca0445e68'), 'Type': '', 'Products': 'steak', 'Prices': '18', 'Quantity': '20', 'StockPrice': '90', 'Size': '28g', 'BarCode': '548976585'}\n",
      "{'_id': ObjectId('5e57c2c6201b231ca0445e69'), 'Type': '', 'Products': 'pepper', 'Prices': '15', 'Quantity': '10', 'StockPrice': '216', 'Size': '250g', 'BarCode': '984563216'}\n",
      "{'_id': ObjectId('5e57c2c6201b231ca0445e6a'), 'Type': '', 'Products': '', 'Prices': '', 'Quantity': '', 'StockPrice': '', 'Size': '', 'BarCode': ''}\n",
      "{'_id': ObjectId('5e57c2c6201b231ca0445e6b'), 'Type': 'Fruits', 'Products': 'Guava', 'Prices': '10', 'Quantity': '20', 'StockPrice': '200', 'Size': '250g', 'BarCode': '584324796'}\n",
      "{'_id': ObjectId('5e57c2c6201b231ca0445e6c'), 'Type': '', 'Products': 'Peach', 'Prices': '12', 'Quantity': '15', 'StockPrice': '120', 'Size': '250g', 'BarCode': '186187741'}\n",
      "{'_id': ObjectId('5e57c2c6201b231ca0445e6d'), 'Type': '', 'Products': 'Pear', 'Prices': '8', 'Quantity': '30', 'StockPrice': '90', 'Size': '28g', 'BarCode': '548976585'}\n",
      "{'_id': ObjectId('5e57c2c6201b231ca0445e6e'), 'Type': '', 'Products': 'Banana', 'Prices': '15', 'Quantity': '10', 'StockPrice': '216', 'Size': '250g', 'BarCode': '984563216'}\n",
      "{'_id': ObjectId('5e57c2c6201b231ca0445e6f'), 'Type': '', 'Products': '', 'Prices': '', 'Quantity': '', 'StockPrice': '', 'Size': '', 'BarCode': ''}\n",
      "{'_id': ObjectId('5e57c2c6201b231ca0445e70'), 'Type': 'Cupcakes', 'Products': 'Vanilla', 'Prices': '20', 'Quantity': '20', 'StockPrice': '200', 'Size': '250g', 'BarCode': '584324796'}\n",
      "{'_id': ObjectId('5e57c2c6201b231ca0445e71'), 'Type': '', 'Products': 'Chocmint', 'Prices': '17', 'Quantity': '20', 'StockPrice': '120', 'Size': '250g', 'BarCode': '186187741'}\n",
      "{'_id': ObjectId('5e57c2c6201b231ca0445e72'), 'Type': '', 'Products': 'Browny', 'Prices': '22', 'Quantity': '15', 'StockPrice': '90', 'Size': '28g', 'BarCode': '548976585'}\n",
      "{'_id': ObjectId('5e57c2c6201b231ca0445e73'), 'Type': '', 'Products': 'Chocolate', 'Prices': '20', 'Quantity': '10', 'StockPrice': '216', 'Size': '250g', 'BarCode': '984563216'}\n",
      "{'_id': ObjectId('5e57c2c6201b231ca0445e74'), 'Type': '', 'Products': '', 'Prices': '', 'Quantity': '', 'StockPrice': '', 'Size': '', 'BarCode': ''}\n",
      "{'_id': ObjectId('5e57c2c6201b231ca0445e75'), 'Type': 'Veggies', 'Products': 'Potatoes', 'Prices': '25', 'Quantity': '10', 'StockPrice': '200', 'Size': '250g', 'BarCode': '584324796'}\n",
      "{'_id': ObjectId('5e57c2c6201b231ca0445e76'), 'Type': '', 'Products': 'Spinach', 'Prices': '15', 'Quantity': '10', 'StockPrice': '120', 'Size': '250g', 'BarCode': '186187741'}\n",
      "{'_id': ObjectId('5e57c2c6201b231ca0445e77'), 'Type': '', 'Products': 'Onion', 'Prices': '10', 'Quantity': '10', 'StockPrice': '90', 'Size': '28g', 'BarCode': '548976585'}\n",
      "{'_id': ObjectId('5e57c2c6201b231ca0445e78'), 'Type': '', 'Products': 'Butternut', 'Prices': '12', 'Quantity': '10', 'StockPrice': '216', 'Size': '250g', 'BarCode': '984563216'}\n",
      "{'_id': ObjectId('5e57c2c6201b231ca0445e79'), 'Type': '', 'Products': '', 'Prices': '', 'Quantity': '', 'StockPrice': '', 'Size': '', 'BarCode': ''}\n",
      "{'_id': ObjectId('5e57c2c6201b231ca0445e7a'), 'Type': 'Meat', 'Products': 'Chicken', 'Prices': '30', 'Quantity': '15', 'StockPrice': '200', 'Size': '250g', 'BarCode': '584324796'}\n",
      "{'_id': ObjectId('5e57c2c6201b231ca0445e7b'), 'Type': '', 'Products': 'Pork', 'Prices': '20', 'Quantity': '10', 'StockPrice': '120', 'Size': '250g', 'BarCode': '186187741'}\n",
      "{'_id': ObjectId('5e57c2c6201b231ca0445e7c'), 'Type': '', 'Products': 'Mutton', 'Prices': '50', 'Quantity': '10', 'StockPrice': '90', 'Size': '28g', 'BarCode': '548976585'}\n",
      "{'_id': ObjectId('5e57c2c6201b231ca0445e7d'), 'Type': '', 'Products': 'Sausage', 'Prices': '15', 'Quantity': '25', 'StockPrice': '216', 'Size': '250g', 'BarCode': '984563216'}\n",
      "{'_id': ObjectId('5e57c2c6201b231ca0445e7e'), 'Type': '', 'Products': '', 'Prices': '', 'Quantity': '', 'StockPrice': '', 'Size': '', 'BarCode': ''}\n",
      "{'_id': ObjectId('5e57c2c6201b231ca0445e7f'), 'Type': 'Powder', 'Products': 'Mac', 'Prices': '13', 'Quantity': '20', 'StockPrice': '200', 'Size': '250g', 'BarCode': '584324796'}\n",
      "{'_id': ObjectId('5e57c2c6201b231ca0445e80'), 'Type': '', 'Products': 'Omo', 'Prices': '20', 'Quantity': '10', 'StockPrice': '120', 'Size': '250g', 'BarCode': '186187741'}\n",
      "{'_id': ObjectId('5e57c2c6201b231ca0445e81'), 'Type': '', 'Products': 'Surf', 'Prices': '15', 'Quantity': '15', 'StockPrice': '90', 'Size': '28g', 'BarCode': '548976585'}\n",
      "{'_id': ObjectId('5e57c2c6201b231ca0445e82'), 'Type': '', 'Products': 'Ariel', 'Prices': '25', 'Quantity': '10', 'StockPrice': '216', 'Size': '250g', 'BarCode': '984563216'}\n",
      "{'_id': ObjectId('5e57c2c6201b231ca0445e83'), 'Type': '', 'Products': None, 'Prices': None, 'Quantity': None, 'StockPrice': None, 'Size': None, 'BarCode': None}\n",
      "{'_id': ObjectId('5e57c813a0ea5b30d8651920'), 'chips': 'Lays', 'cooldrink': 'fanta orange', 'chocolate': 'dairy milk'}\n",
      "{'_id': ObjectId('5e57c813a0ea5b30d8651921'), 'chips': 'Doritos', 'cooldrink': 'jive', 'chocolate': 'areo'}\n",
      "{'_id': ObjectId('5e57c813a0ea5b30d8651922'), 'chips': 'Crack n snack', 'cooldrink': 'twizza', 'chocolate': 'chomp'}\n",
      "{'_id': ObjectId('5e57c813a0ea5b30d8651923'), 'chips': 'snappers', 'cooldrink': 'lemonade', 'chocolate': 'bubbly'}\n",
      "{'_id': ObjectId('5e57c813a0ea5b30d8651924'), 'chips': 'stylos', 'cooldrink': 'pepsi', 'chocolate': 'lindte'}\n",
      "{'_id': ObjectId('5e57c82ca0ea5b30d8651926'), 'chips': 'Lays', 'cooldrink': 'fanta orange', 'chocolate': 'dairy milk'}\n",
      "{'_id': ObjectId('5e57c82ca0ea5b30d8651927'), 'chips': 'Doritos', 'cooldrink': 'jive', 'chocolate': 'areo'}\n",
      "{'_id': ObjectId('5e57c82ca0ea5b30d8651928'), 'chips': 'Crack n snack', 'cooldrink': 'twizza', 'chocolate': 'chomp'}\n",
      "{'_id': ObjectId('5e57c82ca0ea5b30d8651929'), 'chips': 'snappers', 'cooldrink': 'lemonade', 'chocolate': 'bubbly'}\n",
      "{'_id': ObjectId('5e57c82ca0ea5b30d865192a'), 'chips': 'stylos', 'cooldrink': 'pepsi', 'chocolate': 'lindte'}\n",
      "{'_id': ObjectId('5e57c8dea0ea5b30d865192c'), 'chips': 'Lays', 'cooldrink': 'fanta orange', 'chocolate': 'dairy milk'}\n",
      "{'_id': ObjectId('5e57c8dea0ea5b30d865192d'), 'chips': 'Doritos', 'cooldrink': 'jive', 'chocolate': 'areo'}\n",
      "{'_id': ObjectId('5e57c8dea0ea5b30d865192e'), 'chips': 'Crack n snack', 'cooldrink': 'twizza', 'chocolate': 'chomp'}\n",
      "{'_id': ObjectId('5e57c8dea0ea5b30d865192f'), 'chips': 'snappers', 'cooldrink': 'lemonade', 'chocolate': 'bubbly'}\n",
      "{'_id': ObjectId('5e57c8dea0ea5b30d8651930'), 'chips': 'stylos', 'cooldrink': 'pepsi', 'chocolate': 'lindte'}\n"
     ]
    }
   ],
   "source": [
    "#Find all\n",
    "\n",
    "import pymongo\n",
    "\n",
    "myclient = pymongo.MongoClient(\"mongodb://localhost:27017/\")\n",
    "mydb = myclient[\"Data_Tracker\"]\n",
    "mycol = mydb[\"sprint\"]\n",
    "\n",
    "for x in mycol.find():\n",
    "    print(x)"
   ]
  },
  {
   "cell_type": "code",
   "execution_count": 15,
   "metadata": {},
   "outputs": [
    {
     "name": "stdout",
     "output_type": "stream",
     "text": [
      "{'_id': ObjectId('5e57c2c6201b231ca0445e57'), 'Type': 'Chips', 'Products': 'Doritos', 'Prices': '15', 'Quantity': '20', 'StockPrice': '200', 'Size': '250g', 'BarCode': '584324796'}\n",
      "{'_id': ObjectId('5e57c2c6201b231ca0445e58'), 'Type': '', 'Products': 'Lays', 'Prices': '12', 'Quantity': '15', 'StockPrice': '120', 'Size': '250g', 'BarCode': '186187741'}\n",
      "{'_id': ObjectId('5e57c2c6201b231ca0445e59'), 'Type': '', 'Products': 'NikNaks', 'Prices': '5', 'Quantity': '30', 'StockPrice': '90', 'Size': '28g', 'BarCode': '548976585'}\n",
      "{'_id': ObjectId('5e57c2c6201b231ca0445e5a'), 'Type': '', 'Products': 'Simba', 'Prices': '18', 'Quantity': '18', 'StockPrice': '216', 'Size': '250g', 'BarCode': '984563216'}\n",
      "{'_id': ObjectId('5e57c2c6201b231ca0445e5b'), 'Type': '', 'Products': '', 'Prices': '', 'Quantity': '', 'StockPrice': '', 'Size': '', 'BarCode': ''}\n",
      "{'_id': ObjectId('5e57c2c6201b231ca0445e5c'), 'Type': 'Cooldrink', 'Products': 'Fanta', 'Prices': '11', 'Quantity': '10', 'StockPrice': '200', 'Size': '250g', 'BarCode': '584324796'}\n",
      "{'_id': ObjectId('5e57c2c6201b231ca0445e5d'), 'Type': '', 'Products': 'Sprite', 'Prices': '14', 'Quantity': '10', 'StockPrice': '120', 'Size': '250g', 'BarCode': '186187741'}\n",
      "{'_id': ObjectId('5e57c2c6201b231ca0445e5e'), 'Type': '', 'Products': 'Jive', 'Prices': '10', 'Quantity': '20', 'StockPrice': '90', 'Size': '28g', 'BarCode': '548976585'}\n",
      "{'_id': ObjectId('5e57c2c6201b231ca0445e5f'), 'Type': '', 'Products': 'Score', 'Prices': '10', 'Quantity': '15', 'StockPrice': '216', 'Size': '250g', 'BarCode': '984563216'}\n",
      "{'_id': ObjectId('5e57c2c6201b231ca0445e60'), 'Type': '', 'Products': '', 'Prices': '', 'Quantity': '', 'StockPrice': '', 'Size': '', 'BarCode': ''}\n",
      "{'_id': ObjectId('5e57c2c6201b231ca0445e61'), 'Type': 'Chocolate', 'Products': ' Ps', 'Prices': '8', 'Quantity': '20', 'StockPrice': '200', 'Size': '250g', 'BarCode': '584324796'}\n",
      "{'_id': ObjectId('5e57c2c6201b231ca0445e62'), 'Type': '', 'Products': 'KitKat', 'Prices': '10', 'Quantity': '15', 'StockPrice': '120', 'Size': '250g', 'BarCode': '186187741'}\n",
      "{'_id': ObjectId('5e57c2c6201b231ca0445e63'), 'Type': '', 'Products': 'Bar-one', 'Prices': '13', 'Quantity': '10', 'StockPrice': '90', 'Size': '28g', 'BarCode': '548976585'}\n",
      "{'_id': ObjectId('5e57c2c6201b231ca0445e64'), 'Type': '', 'Products': 'Tex', 'Prices': '7', 'Quantity': '25', 'StockPrice': '216', 'Size': '250g', 'BarCode': '984563216'}\n",
      "{'_id': ObjectId('5e57c2c6201b231ca0445e65'), 'Type': '', 'Products': '', 'Prices': '', 'Quantity': '', 'StockPrice': '', 'Size': '', 'BarCode': ''}\n",
      "{'_id': ObjectId('5e57c2c6201b231ca0445e66'), 'Type': 'Pies', 'Products': 'Chicken', 'Prices': '15', 'Quantity': '13', 'StockPrice': '200', 'Size': '250g', 'BarCode': '584324796'}\n",
      "{'_id': ObjectId('5e57c2c6201b231ca0445e67'), 'Type': '', 'Products': 'Burger', 'Prices': '20', 'Quantity': '10', 'StockPrice': '120', 'Size': '250g', 'BarCode': '186187741'}\n",
      "{'_id': ObjectId('5e57c2c6201b231ca0445e68'), 'Type': '', 'Products': 'steak', 'Prices': '18', 'Quantity': '20', 'StockPrice': '90', 'Size': '28g', 'BarCode': '548976585'}\n",
      "{'_id': ObjectId('5e57c2c6201b231ca0445e69'), 'Type': '', 'Products': 'pepper', 'Prices': '15', 'Quantity': '10', 'StockPrice': '216', 'Size': '250g', 'BarCode': '984563216'}\n",
      "{'_id': ObjectId('5e57c2c6201b231ca0445e6a'), 'Type': '', 'Products': '', 'Prices': '', 'Quantity': '', 'StockPrice': '', 'Size': '', 'BarCode': ''}\n",
      "{'_id': ObjectId('5e57c2c6201b231ca0445e6b'), 'Type': 'Fruits', 'Products': 'Guava', 'Prices': '10', 'Quantity': '20', 'StockPrice': '200', 'Size': '250g', 'BarCode': '584324796'}\n",
      "{'_id': ObjectId('5e57c2c6201b231ca0445e6c'), 'Type': '', 'Products': 'Peach', 'Prices': '12', 'Quantity': '15', 'StockPrice': '120', 'Size': '250g', 'BarCode': '186187741'}\n",
      "{'_id': ObjectId('5e57c2c6201b231ca0445e6d'), 'Type': '', 'Products': 'Pear', 'Prices': '8', 'Quantity': '30', 'StockPrice': '90', 'Size': '28g', 'BarCode': '548976585'}\n",
      "{'_id': ObjectId('5e57c2c6201b231ca0445e6e'), 'Type': '', 'Products': 'Banana', 'Prices': '15', 'Quantity': '10', 'StockPrice': '216', 'Size': '250g', 'BarCode': '984563216'}\n",
      "{'_id': ObjectId('5e57c2c6201b231ca0445e6f'), 'Type': '', 'Products': '', 'Prices': '', 'Quantity': '', 'StockPrice': '', 'Size': '', 'BarCode': ''}\n",
      "{'_id': ObjectId('5e57c2c6201b231ca0445e70'), 'Type': 'Cupcakes', 'Products': 'Vanilla', 'Prices': '20', 'Quantity': '20', 'StockPrice': '200', 'Size': '250g', 'BarCode': '584324796'}\n",
      "{'_id': ObjectId('5e57c2c6201b231ca0445e71'), 'Type': '', 'Products': 'Chocmint', 'Prices': '17', 'Quantity': '20', 'StockPrice': '120', 'Size': '250g', 'BarCode': '186187741'}\n",
      "{'_id': ObjectId('5e57c2c6201b231ca0445e72'), 'Type': '', 'Products': 'Browny', 'Prices': '22', 'Quantity': '15', 'StockPrice': '90', 'Size': '28g', 'BarCode': '548976585'}\n",
      "{'_id': ObjectId('5e57c2c6201b231ca0445e73'), 'Type': '', 'Products': 'Chocolate', 'Prices': '20', 'Quantity': '10', 'StockPrice': '216', 'Size': '250g', 'BarCode': '984563216'}\n",
      "{'_id': ObjectId('5e57c2c6201b231ca0445e74'), 'Type': '', 'Products': '', 'Prices': '', 'Quantity': '', 'StockPrice': '', 'Size': '', 'BarCode': ''}\n",
      "{'_id': ObjectId('5e57c2c6201b231ca0445e75'), 'Type': 'Veggies', 'Products': 'Potatoes', 'Prices': '25', 'Quantity': '10', 'StockPrice': '200', 'Size': '250g', 'BarCode': '584324796'}\n",
      "{'_id': ObjectId('5e57c2c6201b231ca0445e76'), 'Type': '', 'Products': 'Spinach', 'Prices': '15', 'Quantity': '10', 'StockPrice': '120', 'Size': '250g', 'BarCode': '186187741'}\n",
      "{'_id': ObjectId('5e57c2c6201b231ca0445e77'), 'Type': '', 'Products': 'Onion', 'Prices': '10', 'Quantity': '10', 'StockPrice': '90', 'Size': '28g', 'BarCode': '548976585'}\n",
      "{'_id': ObjectId('5e57c2c6201b231ca0445e78'), 'Type': '', 'Products': 'Butternut', 'Prices': '12', 'Quantity': '10', 'StockPrice': '216', 'Size': '250g', 'BarCode': '984563216'}\n",
      "{'_id': ObjectId('5e57c2c6201b231ca0445e79'), 'Type': '', 'Products': '', 'Prices': '', 'Quantity': '', 'StockPrice': '', 'Size': '', 'BarCode': ''}\n",
      "{'_id': ObjectId('5e57c2c6201b231ca0445e7a'), 'Type': 'Meat', 'Products': 'Chicken', 'Prices': '30', 'Quantity': '15', 'StockPrice': '200', 'Size': '250g', 'BarCode': '584324796'}\n",
      "{'_id': ObjectId('5e57c2c6201b231ca0445e7b'), 'Type': '', 'Products': 'Pork', 'Prices': '20', 'Quantity': '10', 'StockPrice': '120', 'Size': '250g', 'BarCode': '186187741'}\n",
      "{'_id': ObjectId('5e57c2c6201b231ca0445e7c'), 'Type': '', 'Products': 'Mutton', 'Prices': '50', 'Quantity': '10', 'StockPrice': '90', 'Size': '28g', 'BarCode': '548976585'}\n",
      "{'_id': ObjectId('5e57c2c6201b231ca0445e7d'), 'Type': '', 'Products': 'Sausage', 'Prices': '15', 'Quantity': '25', 'StockPrice': '216', 'Size': '250g', 'BarCode': '984563216'}\n",
      "{'_id': ObjectId('5e57c2c6201b231ca0445e7e'), 'Type': '', 'Products': '', 'Prices': '', 'Quantity': '', 'StockPrice': '', 'Size': '', 'BarCode': ''}\n",
      "{'_id': ObjectId('5e57c2c6201b231ca0445e7f'), 'Type': 'Powder', 'Products': 'Mac', 'Prices': '13', 'Quantity': '20', 'StockPrice': '200', 'Size': '250g', 'BarCode': '584324796'}\n",
      "{'_id': ObjectId('5e57c2c6201b231ca0445e80'), 'Type': '', 'Products': 'Omo', 'Prices': '20', 'Quantity': '10', 'StockPrice': '120', 'Size': '250g', 'BarCode': '186187741'}\n",
      "{'_id': ObjectId('5e57c2c6201b231ca0445e81'), 'Type': '', 'Products': 'Surf', 'Prices': '15', 'Quantity': '15', 'StockPrice': '90', 'Size': '28g', 'BarCode': '548976585'}\n",
      "{'_id': ObjectId('5e57c2c6201b231ca0445e82'), 'Type': '', 'Products': 'Ariel', 'Prices': '25', 'Quantity': '10', 'StockPrice': '216', 'Size': '250g', 'BarCode': '984563216'}\n",
      "{'_id': ObjectId('5e57c2c6201b231ca0445e83'), 'Type': '', 'Products': None, 'Prices': None, 'Quantity': None, 'StockPrice': None, 'Size': None, 'BarCode': None}\n",
      "{'_id': ObjectId('5e57c813a0ea5b30d8651920'), 'chips': 'Lays', 'cooldrink': 'fanta orange', 'chocolate': 'dairy milk'}\n",
      "{'_id': ObjectId('5e57c813a0ea5b30d8651921'), 'chips': 'Doritos', 'cooldrink': 'jive', 'chocolate': 'areo'}\n",
      "{'_id': ObjectId('5e57c813a0ea5b30d8651922'), 'chips': 'Crack n snack', 'cooldrink': 'twizza', 'chocolate': 'chomp'}\n",
      "{'_id': ObjectId('5e57c813a0ea5b30d8651923'), 'chips': 'snappers', 'cooldrink': 'lemonade', 'chocolate': 'bubbly'}\n",
      "{'_id': ObjectId('5e57c813a0ea5b30d8651924'), 'chips': 'stylos', 'cooldrink': 'pepsi', 'chocolate': 'lindte'}\n",
      "{'_id': ObjectId('5e57c82ca0ea5b30d8651926'), 'chips': 'Lays', 'cooldrink': 'fanta orange', 'chocolate': 'dairy milk'}\n",
      "{'_id': ObjectId('5e57c82ca0ea5b30d8651927'), 'chips': 'Doritos', 'cooldrink': 'jive', 'chocolate': 'areo'}\n",
      "{'_id': ObjectId('5e57c82ca0ea5b30d8651928'), 'chips': 'Crack n snack', 'cooldrink': 'twizza', 'chocolate': 'chomp'}\n",
      "{'_id': ObjectId('5e57c82ca0ea5b30d8651929'), 'chips': 'snappers', 'cooldrink': 'lemonade', 'chocolate': 'bubbly'}\n",
      "{'_id': ObjectId('5e57c82ca0ea5b30d865192a'), 'chips': 'stylos', 'cooldrink': 'pepsi', 'chocolate': 'lindte'}\n",
      "{'_id': ObjectId('5e57c8dea0ea5b30d865192c'), 'chips': 'Lays', 'cooldrink': 'fanta orange', 'chocolate': 'dairy milk'}\n",
      "{'_id': ObjectId('5e57c8dea0ea5b30d865192d'), 'chips': 'Doritos', 'cooldrink': 'jive', 'chocolate': 'areo'}\n",
      "{'_id': ObjectId('5e57c8dea0ea5b30d865192e'), 'chips': 'Crack n snack', 'cooldrink': 'twizza', 'chocolate': 'chomp'}\n",
      "{'_id': ObjectId('5e57c8dea0ea5b30d865192f'), 'chips': 'snappers', 'cooldrink': 'lemonade', 'chocolate': 'bubbly'}\n",
      "{'_id': ObjectId('5e57c8dea0ea5b30d8651930'), 'chips': 'stylos', 'cooldrink': 'pepsi', 'chocolate': 'lindte'}\n"
     ]
    }
   ],
   "source": [
    "#Implement a descending sort to your data in Mongodb\n",
    "\n",
    "import pymongo\n",
    "\n",
    "myclient = pymongo.MongoClient(\"mongodb://localhost:27017/\")\n",
    "mydb = myclient[\"Data_Tracker\"]\n",
    "mycol = mydb[\"sprint\"]\n",
    "\n",
    "mydoc = mycol.find().sort(\"name\", -1)\n",
    "\n",
    "for x in mydoc:\n",
    "    print(x)"
   ]
  },
  {
   "cell_type": "code",
   "execution_count": 16,
   "metadata": {},
   "outputs": [
    {
     "name": "stdout",
     "output_type": "stream",
     "text": [
      "0 documents deleted.\n"
     ]
    }
   ],
   "source": [
    "#Delete 2 brands from your collection of top 3 products \n",
    "import pymongo\n",
    "\n",
    "myclient = pymongo.MongoClient(\"mongodb://localhost:27017/\")\n",
    "mydb = myclient[\"Data_Tracker\"]\n",
    "mycol = mydb[\"sprint\"]\n",
    "\n",
    "myquery = { \"chips\": {\"$regex\": \"^S\"} }\n",
    "\n",
    "x = mycol.delete_many(myquery)\n",
    "\n",
    "print(x.deleted_count, \"documents deleted.\")"
   ]
  },
  {
   "cell_type": "code",
   "execution_count": 17,
   "metadata": {},
   "outputs": [
    {
     "name": "stdout",
     "output_type": "stream",
     "text": [
      "{'_id': ObjectId('5e57c2c6201b231ca0445e57'), 'Type': 'Chips', 'Products': 'Doritos', 'Prices': '15', 'Quantity': '20', 'StockPrice': '200', 'Size': '250g', 'BarCode': '584324796'}\n",
      "{'_id': ObjectId('5e57c2c6201b231ca0445e58'), 'Type': '', 'Products': 'Lays', 'Prices': '12', 'Quantity': '15', 'StockPrice': '120', 'Size': '250g', 'BarCode': '186187741'}\n",
      "{'_id': ObjectId('5e57c2c6201b231ca0445e59'), 'Type': '', 'Products': 'NikNaks', 'Prices': '5', 'Quantity': '30', 'StockPrice': '90', 'Size': '28g', 'BarCode': '548976585'}\n",
      "{'_id': ObjectId('5e57c2c6201b231ca0445e5a'), 'Type': '', 'Products': 'Simba', 'Prices': '18', 'Quantity': '18', 'StockPrice': '216', 'Size': '250g', 'BarCode': '984563216'}\n",
      "{'_id': ObjectId('5e57c2c6201b231ca0445e5b'), 'Type': '', 'Products': '', 'Prices': '', 'Quantity': '', 'StockPrice': '', 'Size': '', 'BarCode': ''}\n",
      "{'_id': ObjectId('5e57c2c6201b231ca0445e5c'), 'Type': 'Cooldrink', 'Products': 'Fanta', 'Prices': '11', 'Quantity': '10', 'StockPrice': '200', 'Size': '250g', 'BarCode': '584324796'}\n",
      "{'_id': ObjectId('5e57c2c6201b231ca0445e5d'), 'Type': '', 'Products': 'Sprite', 'Prices': '14', 'Quantity': '10', 'StockPrice': '120', 'Size': '250g', 'BarCode': '186187741'}\n",
      "{'_id': ObjectId('5e57c2c6201b231ca0445e5e'), 'Type': '', 'Products': 'Jive', 'Prices': '10', 'Quantity': '20', 'StockPrice': '90', 'Size': '28g', 'BarCode': '548976585'}\n",
      "{'_id': ObjectId('5e57c2c6201b231ca0445e5f'), 'Type': '', 'Products': 'Score', 'Prices': '10', 'Quantity': '15', 'StockPrice': '216', 'Size': '250g', 'BarCode': '984563216'}\n",
      "{'_id': ObjectId('5e57c2c6201b231ca0445e60'), 'Type': '', 'Products': '', 'Prices': '', 'Quantity': '', 'StockPrice': '', 'Size': '', 'BarCode': ''}\n",
      "{'_id': ObjectId('5e57c2c6201b231ca0445e61'), 'Type': 'Chocolate', 'Products': ' Ps', 'Prices': '8', 'Quantity': '20', 'StockPrice': '200', 'Size': '250g', 'BarCode': '584324796'}\n",
      "{'_id': ObjectId('5e57c2c6201b231ca0445e62'), 'Type': '', 'Products': 'KitKat', 'Prices': '10', 'Quantity': '15', 'StockPrice': '120', 'Size': '250g', 'BarCode': '186187741'}\n",
      "{'_id': ObjectId('5e57c2c6201b231ca0445e63'), 'Type': '', 'Products': 'Bar-one', 'Prices': '13', 'Quantity': '10', 'StockPrice': '90', 'Size': '28g', 'BarCode': '548976585'}\n",
      "{'_id': ObjectId('5e57c2c6201b231ca0445e64'), 'Type': '', 'Products': 'Tex', 'Prices': '7', 'Quantity': '25', 'StockPrice': '216', 'Size': '250g', 'BarCode': '984563216'}\n",
      "{'_id': ObjectId('5e57c2c6201b231ca0445e65'), 'Type': '', 'Products': '', 'Prices': '', 'Quantity': '', 'StockPrice': '', 'Size': '', 'BarCode': ''}\n",
      "{'_id': ObjectId('5e57c2c6201b231ca0445e66'), 'Type': 'Pies', 'Products': 'Chicken', 'Prices': '15', 'Quantity': '13', 'StockPrice': '200', 'Size': '250g', 'BarCode': '584324796'}\n",
      "{'_id': ObjectId('5e57c2c6201b231ca0445e67'), 'Type': '', 'Products': 'Burger', 'Prices': '20', 'Quantity': '10', 'StockPrice': '120', 'Size': '250g', 'BarCode': '186187741'}\n",
      "{'_id': ObjectId('5e57c2c6201b231ca0445e68'), 'Type': '', 'Products': 'steak', 'Prices': '18', 'Quantity': '20', 'StockPrice': '90', 'Size': '28g', 'BarCode': '548976585'}\n",
      "{'_id': ObjectId('5e57c2c6201b231ca0445e69'), 'Type': '', 'Products': 'pepper', 'Prices': '15', 'Quantity': '10', 'StockPrice': '216', 'Size': '250g', 'BarCode': '984563216'}\n",
      "{'_id': ObjectId('5e57c2c6201b231ca0445e6a'), 'Type': '', 'Products': '', 'Prices': '', 'Quantity': '', 'StockPrice': '', 'Size': '', 'BarCode': ''}\n",
      "{'_id': ObjectId('5e57c2c6201b231ca0445e6b'), 'Type': 'Fruits', 'Products': 'Guava', 'Prices': '10', 'Quantity': '20', 'StockPrice': '200', 'Size': '250g', 'BarCode': '584324796'}\n",
      "{'_id': ObjectId('5e57c2c6201b231ca0445e6c'), 'Type': '', 'Products': 'Peach', 'Prices': '12', 'Quantity': '15', 'StockPrice': '120', 'Size': '250g', 'BarCode': '186187741'}\n",
      "{'_id': ObjectId('5e57c2c6201b231ca0445e6d'), 'Type': '', 'Products': 'Pear', 'Prices': '8', 'Quantity': '30', 'StockPrice': '90', 'Size': '28g', 'BarCode': '548976585'}\n",
      "{'_id': ObjectId('5e57c2c6201b231ca0445e6e'), 'Type': '', 'Products': 'Banana', 'Prices': '15', 'Quantity': '10', 'StockPrice': '216', 'Size': '250g', 'BarCode': '984563216'}\n",
      "{'_id': ObjectId('5e57c2c6201b231ca0445e6f'), 'Type': '', 'Products': '', 'Prices': '', 'Quantity': '', 'StockPrice': '', 'Size': '', 'BarCode': ''}\n",
      "{'_id': ObjectId('5e57c2c6201b231ca0445e70'), 'Type': 'Cupcakes', 'Products': 'Vanilla', 'Prices': '20', 'Quantity': '20', 'StockPrice': '200', 'Size': '250g', 'BarCode': '584324796'}\n",
      "{'_id': ObjectId('5e57c2c6201b231ca0445e71'), 'Type': '', 'Products': 'Chocmint', 'Prices': '17', 'Quantity': '20', 'StockPrice': '120', 'Size': '250g', 'BarCode': '186187741'}\n",
      "{'_id': ObjectId('5e57c2c6201b231ca0445e72'), 'Type': '', 'Products': 'Browny', 'Prices': '22', 'Quantity': '15', 'StockPrice': '90', 'Size': '28g', 'BarCode': '548976585'}\n",
      "{'_id': ObjectId('5e57c2c6201b231ca0445e73'), 'Type': '', 'Products': 'Chocolate', 'Prices': '20', 'Quantity': '10', 'StockPrice': '216', 'Size': '250g', 'BarCode': '984563216'}\n",
      "{'_id': ObjectId('5e57c2c6201b231ca0445e74'), 'Type': '', 'Products': '', 'Prices': '', 'Quantity': '', 'StockPrice': '', 'Size': '', 'BarCode': ''}\n",
      "{'_id': ObjectId('5e57c2c6201b231ca0445e75'), 'Type': 'Veggies', 'Products': 'Potatoes', 'Prices': '25', 'Quantity': '10', 'StockPrice': '200', 'Size': '250g', 'BarCode': '584324796'}\n",
      "{'_id': ObjectId('5e57c2c6201b231ca0445e76'), 'Type': '', 'Products': 'Spinach', 'Prices': '15', 'Quantity': '10', 'StockPrice': '120', 'Size': '250g', 'BarCode': '186187741'}\n",
      "{'_id': ObjectId('5e57c2c6201b231ca0445e77'), 'Type': '', 'Products': 'Onion', 'Prices': '10', 'Quantity': '10', 'StockPrice': '90', 'Size': '28g', 'BarCode': '548976585'}\n",
      "{'_id': ObjectId('5e57c2c6201b231ca0445e78'), 'Type': '', 'Products': 'Butternut', 'Prices': '12', 'Quantity': '10', 'StockPrice': '216', 'Size': '250g', 'BarCode': '984563216'}\n",
      "{'_id': ObjectId('5e57c2c6201b231ca0445e79'), 'Type': '', 'Products': '', 'Prices': '', 'Quantity': '', 'StockPrice': '', 'Size': '', 'BarCode': ''}\n",
      "{'_id': ObjectId('5e57c2c6201b231ca0445e7a'), 'Type': 'Meat', 'Products': 'Chicken', 'Prices': '30', 'Quantity': '15', 'StockPrice': '200', 'Size': '250g', 'BarCode': '584324796'}\n",
      "{'_id': ObjectId('5e57c2c6201b231ca0445e7b'), 'Type': '', 'Products': 'Pork', 'Prices': '20', 'Quantity': '10', 'StockPrice': '120', 'Size': '250g', 'BarCode': '186187741'}\n",
      "{'_id': ObjectId('5e57c2c6201b231ca0445e7c'), 'Type': '', 'Products': 'Mutton', 'Prices': '50', 'Quantity': '10', 'StockPrice': '90', 'Size': '28g', 'BarCode': '548976585'}\n",
      "{'_id': ObjectId('5e57c2c6201b231ca0445e7d'), 'Type': '', 'Products': 'Sausage', 'Prices': '15', 'Quantity': '25', 'StockPrice': '216', 'Size': '250g', 'BarCode': '984563216'}\n",
      "{'_id': ObjectId('5e57c2c6201b231ca0445e7e'), 'Type': '', 'Products': '', 'Prices': '', 'Quantity': '', 'StockPrice': '', 'Size': '', 'BarCode': ''}\n",
      "{'_id': ObjectId('5e57c2c6201b231ca0445e7f'), 'Type': 'Powder', 'Products': 'Mac', 'Prices': '13', 'Quantity': '20', 'StockPrice': '200', 'Size': '250g', 'BarCode': '584324796'}\n",
      "{'_id': ObjectId('5e57c2c6201b231ca0445e80'), 'Type': '', 'Products': 'Omo', 'Prices': '20', 'Quantity': '10', 'StockPrice': '120', 'Size': '250g', 'BarCode': '186187741'}\n",
      "{'_id': ObjectId('5e57c2c6201b231ca0445e81'), 'Type': '', 'Products': 'Surf', 'Prices': '15', 'Quantity': '15', 'StockPrice': '90', 'Size': '28g', 'BarCode': '548976585'}\n",
      "{'_id': ObjectId('5e57c2c6201b231ca0445e82'), 'Type': '', 'Products': 'Ariel', 'Prices': '25', 'Quantity': '10', 'StockPrice': '216', 'Size': '250g', 'BarCode': '984563216'}\n",
      "{'_id': ObjectId('5e57c2c6201b231ca0445e83'), 'Type': '', 'Products': None, 'Prices': None, 'Quantity': None, 'StockPrice': None, 'Size': None, 'BarCode': None}\n",
      "{'_id': ObjectId('5e57c813a0ea5b30d8651920'), 'chips': 'Lays', 'cooldrink': 'fanta orange', 'chocolate': 'dairy milk'}\n",
      "{'_id': ObjectId('5e57c813a0ea5b30d8651921'), 'chips': 'Doritos', 'cooldrink': 'jive', 'chocolate': 'areo'}\n",
      "{'_id': ObjectId('5e57c813a0ea5b30d8651922'), 'chips': 'Crack n snack', 'cooldrink': 'twizza', 'chocolate': 'chomp'}\n",
      "{'_id': ObjectId('5e57c813a0ea5b30d8651923'), 'chips': 'snappers', 'cooldrink': 'lemonade', 'chocolate': 'bubbly'}\n",
      "{'_id': ObjectId('5e57c813a0ea5b30d8651924'), 'chips': 'stylos', 'cooldrink': 'pepsi', 'chocolate': 'lindte'}\n",
      "{'_id': ObjectId('5e57c82ca0ea5b30d8651926'), 'chips': 'Lays', 'cooldrink': 'fanta orange', 'chocolate': 'dairy milk'}\n",
      "{'_id': ObjectId('5e57c82ca0ea5b30d8651927'), 'chips': 'Doritos', 'cooldrink': 'jive', 'chocolate': 'areo'}\n",
      "{'_id': ObjectId('5e57c82ca0ea5b30d8651928'), 'chips': 'Crack n snack', 'cooldrink': 'twizza', 'chocolate': 'chomp'}\n",
      "{'_id': ObjectId('5e57c82ca0ea5b30d8651929'), 'chips': 'snappers', 'cooldrink': 'lemonade', 'chocolate': 'bubbly'}\n",
      "{'_id': ObjectId('5e57c82ca0ea5b30d865192a'), 'chips': 'stylos', 'cooldrink': 'pepsi', 'chocolate': 'lindte'}\n",
      "{'_id': ObjectId('5e57c8dea0ea5b30d865192c'), 'chips': 'Lays', 'cooldrink': 'fanta orange', 'chocolate': 'dairy milk'}\n",
      "{'_id': ObjectId('5e57c8dea0ea5b30d865192d'), 'chips': 'Doritos', 'cooldrink': 'jive', 'chocolate': 'areo'}\n",
      "{'_id': ObjectId('5e57c8dea0ea5b30d865192e'), 'chips': 'Crack n snack', 'cooldrink': 'twizza', 'chocolate': 'chomp'}\n",
      "{'_id': ObjectId('5e57c8dea0ea5b30d865192f'), 'chips': 'snappers', 'cooldrink': 'lemonade', 'chocolate': 'bubbly'}\n",
      "{'_id': ObjectId('5e57c8dea0ea5b30d8651930'), 'chips': 'stylos', 'cooldrink': 'pepsi', 'chocolate': 'lindte'}\n"
     ]
    }
   ],
   "source": [
    "#Update 1 product and its brands from your collection you created\n",
    "import pymongo\n",
    "\n",
    "myclient = pymongo.MongoClient(\"mongodb://localhost:27017/\")\n",
    "mydb = myclient[\"Data_Tracker\"]\n",
    "mycol = mydb[\"sprint\"]\n",
    "\n",
    "myquery = {\"chips\": \"lays\"}\n",
    "newvalues = {\"$set\": {\"chips\": \"flyers\"}}\n",
    "\n",
    "mycol.update_one(myquery, newvalues)\n",
    "\n",
    "#print \"customers\" after the update:\n",
    "for x in mycol.find():\n",
    "    print(x)"
   ]
  },
  {
   "cell_type": "code",
   "execution_count": 18,
   "metadata": {},
   "outputs": [
    {
     "name": "stdout",
     "output_type": "stream",
     "text": [
      "{'_id': ObjectId('5e57c813a0ea5b30d8651920'), 'chips': 'Lays', 'cooldrink': 'fanta orange', 'chocolate': 'dairy milk'}\n",
      "{'_id': ObjectId('5e57c813a0ea5b30d8651921'), 'chips': 'Doritos', 'cooldrink': 'jive', 'chocolate': 'areo'}\n",
      "{'_id': ObjectId('5e57c813a0ea5b30d8651922'), 'chips': 'Crack n snack', 'cooldrink': 'twizza', 'chocolate': 'chomp'}\n",
      "{'_id': ObjectId('5e57c813a0ea5b30d8651923'), 'chips': 'snappers', 'cooldrink': 'lemonade', 'chocolate': 'bubbly'}\n",
      "{'_id': ObjectId('5e57c813a0ea5b30d8651924'), 'chips': 'stylos', 'cooldrink': 'pepsi', 'chocolate': 'lindte'}\n",
      "{'_id': ObjectId('5e57c82ca0ea5b30d8651926'), 'chips': 'Lays', 'cooldrink': 'fanta orange', 'chocolate': 'dairy milk'}\n",
      "{'_id': ObjectId('5e57c82ca0ea5b30d8651927'), 'chips': 'Doritos', 'cooldrink': 'jive', 'chocolate': 'areo'}\n",
      "{'_id': ObjectId('5e57c82ca0ea5b30d8651928'), 'chips': 'Crack n snack', 'cooldrink': 'twizza', 'chocolate': 'chomp'}\n",
      "{'_id': ObjectId('5e57c82ca0ea5b30d8651929'), 'chips': 'snappers', 'cooldrink': 'lemonade', 'chocolate': 'bubbly'}\n",
      "{'_id': ObjectId('5e57c82ca0ea5b30d865192a'), 'chips': 'stylos', 'cooldrink': 'pepsi', 'chocolate': 'lindte'}\n",
      "{'_id': ObjectId('5e57c8dea0ea5b30d865192c'), 'chips': 'Lays', 'cooldrink': 'fanta orange', 'chocolate': 'dairy milk'}\n",
      "{'_id': ObjectId('5e57c8dea0ea5b30d865192d'), 'chips': 'Doritos', 'cooldrink': 'jive', 'chocolate': 'areo'}\n",
      "{'_id': ObjectId('5e57c8dea0ea5b30d865192e'), 'chips': 'Crack n snack', 'cooldrink': 'twizza', 'chocolate': 'chomp'}\n",
      "{'_id': ObjectId('5e57c8dea0ea5b30d865192f'), 'chips': 'snappers', 'cooldrink': 'lemonade', 'chocolate': 'bubbly'}\n",
      "{'_id': ObjectId('5e57c8dea0ea5b30d8651930'), 'chips': 'stylos', 'cooldrink': 'pepsi', 'chocolate': 'lindte'}\n"
     ]
    }
   ],
   "source": [
    "#Track (search/filter) for the least 5 brands in your products.\n",
    "import pymongo\n",
    "\n",
    "myclient = pymongo.MongoClient(\"mongodb://localhost:27017/\")\n",
    "mydb = myclient[\"Data_Tracker\"]\n",
    "mycol = mydb[\"sprint\"]\n",
    "\n",
    "myquery = { \"chips\": {\"$gt\": \"C\"}}\n",
    "\n",
    "mydoc = mycol.find(myquery)\n",
    "\n",
    "for x in mydoc:\n",
    "    print(x)"
   ]
  },
  {
   "cell_type": "code",
   "execution_count": null,
   "metadata": {},
   "outputs": [],
   "source": []
  }
 ],
 "metadata": {
  "kernelspec": {
   "display_name": "Python 3",
   "language": "python",
   "name": "python3"
  },
  "language_info": {
   "codemirror_mode": {
    "name": "ipython",
    "version": 3
   },
   "file_extension": ".py",
   "mimetype": "text/x-python",
   "name": "python",
   "nbconvert_exporter": "python",
   "pygments_lexer": "ipython3",
   "version": "3.7.4"
  }
 },
 "nbformat": 4,
 "nbformat_minor": 2
}
